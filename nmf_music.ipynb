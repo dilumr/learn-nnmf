{
 "cells": [
  {
   "cell_type": "code",
   "execution_count": 55,
   "metadata": {},
   "outputs": [],
   "source": [
    "likes_1 = [\n",
    "    ('dylan', 'coldplay'),\n",
    "    ('dylan', 'imagine dragons'),\n",
    "    ('dylan', 'u2'),\n",
    "    ('nate',  'coldplay'),\n",
    "    ('nate',  'imagine dragons'),\n",
    "    ('nate',  'u2'),\n",
    "    ('kris',  'aerosmith'),\n",
    "    ('kris',  'guns&roses'),\n",
    "    ('kris',  'pearljam'),\n",
    "    ('sonny', 'aerosmith'),\n",
    "    ('sonny', 'coldplay'),\n",
    "    ('sonny', 'guns&roses'),\n",
    "    ('sonny', 'imagine dragons'),\n",
    "    ('sonny', 'pearljam'),\n",
    "    ('sonny', 'u2')\n",
    "]\n",
    "\n",
    "likes = likes_1"
   ]
  },
  {
   "cell_type": "code",
   "execution_count": 47,
   "metadata": {},
   "outputs": [
    {
     "name": "stdout",
     "output_type": "stream",
     "text": [
      "      FAN             BAND\n",
      "0   dylan         coldplay\n",
      "1   dylan  imagine dragons\n",
      "2   dylan               u2\n",
      "3    nate         coldplay\n",
      "4    nate  imagine dragons\n",
      "5    nate               u2\n",
      "6    kris        aerosmith\n",
      "7    kris       guns&roses\n",
      "8    kris         pearljam\n",
      "9   sonny        aerosmith\n",
      "10  sonny         coldplay\n",
      "11  sonny       guns&roses\n",
      "12  sonny  imagine dragons\n",
      "13  sonny         pearljam\n",
      "14  sonny               u2\n",
      "15  terry        aerosmith\n",
      "16  terry       guns&roses\n",
      "17  terry  imagine dragons\n",
      "18  terry         pearljam\n",
      "19  vince         coldplay\n",
      "20  vince               u2\n"
     ]
    }
   ],
   "source": [
    "# Turn the data into a DataFrame table\n",
    "\n",
    "import numpy as np\n",
    "import pandas as pd\n",
    "\n",
    "music_csv = pd.DataFrame(likes, columns=['FAN', 'BAND'])\n",
    "print(music_csv)"
   ]
  },
  {
   "cell_type": "code",
   "execution_count": 48,
   "metadata": {},
   "outputs": [
    {
     "name": "stdout",
     "output_type": "stream",
     "text": [
      "   SUBJECT           OBJECT\n",
      "0    dylan         coldplay\n",
      "1    dylan  imagine dragons\n",
      "2    dylan               u2\n",
      "3     nate         coldplay\n",
      "4     nate  imagine dragons\n",
      "5     nate               u2\n",
      "6     kris        aerosmith\n",
      "7     kris       guns&roses\n",
      "8     kris         pearljam\n",
      "9    sonny        aerosmith\n",
      "10   sonny         coldplay\n",
      "11   sonny       guns&roses\n",
      "12   sonny  imagine dragons\n",
      "13   sonny         pearljam\n",
      "14   sonny               u2\n",
      "15   terry        aerosmith\n",
      "16   terry       guns&roses\n",
      "17   terry  imagine dragons\n",
      "18   terry         pearljam\n",
      "19   vince         coldplay\n",
      "20   vince               u2\n"
     ]
    }
   ],
   "source": [
    "# My NNMF library assumes 'SUBJECT' and 'OBJECT' column names.\n",
    "\n",
    "import nnmf\n",
    "\n",
    "music_dft = music_csv.rename(\n",
    "    columns={'FAN': nnmf.SUBJECT_COLUMN_NAME, \n",
    "             'BAND': nnmf.OBJECT_COLUMN_NAME})\n",
    "\n",
    "print(music_dft)"
   ]
  },
  {
   "cell_type": "code",
   "execution_count": 49,
   "metadata": {},
   "outputs": [
    {
     "name": "stdout",
     "output_type": "stream",
     "text": [
      "       coldplay  imagine dragons   u2  aerosmith  guns&roses  pearljam\n",
      "dylan       1.0              1.0  1.0        0.0         0.0       0.0\n",
      "nate        1.0              1.0  1.0        0.0         0.0       0.0\n",
      "kris        0.0              0.0  0.0        1.0         1.0       1.0\n",
      "sonny       1.0              1.0  1.0        1.0         1.0       1.0\n",
      "terry       0.0              1.0  0.0        1.0         1.0       1.0\n",
      "vince       1.0              0.0  1.0        0.0         0.0       0.0\n"
     ]
    }
   ],
   "source": [
    "# now convert association table to a ratings (association) matrix...\n",
    "\n",
    "music_dfm = nnmf.ratings_table_to_matrix(music_dft)\n",
    "print(music_dfm)"
   ]
  },
  {
   "cell_type": "code",
   "execution_count": 50,
   "metadata": {},
   "outputs": [],
   "source": [
    "from sklearn.decomposition import NMF\n",
    "\n",
    "clusters = 2\n",
    "\n",
    "model = NMF(n_components=clusters, init='random', random_state=0)\n",
    "\n",
    "V = music_dfm.values\n",
    "W = model.fit_transform(V)    # 'features' matrix\n",
    "H = model.components_         # 'coefficients' matrix"
   ]
  },
  {
   "cell_type": "code",
   "execution_count": 51,
   "metadata": {},
   "outputs": [
    {
     "name": "stdout",
     "output_type": "stream",
     "text": [
      "[[1. 1. 1. 0. 0. 0.]\n",
      " [1. 1. 1. 0. 0. 0.]\n",
      " [0. 0. 0. 1. 1. 1.]\n",
      " [1. 1. 1. 1. 1. 1.]\n",
      " [0. 1. 0. 1. 1. 1.]\n",
      " [1. 0. 1. 0. 0. 0.]]\n"
     ]
    }
   ],
   "source": [
    "print(np.round(V, decimals=2))"
   ]
  },
  {
   "cell_type": "code",
   "execution_count": 52,
   "metadata": {},
   "outputs": [
    {
     "name": "stdout",
     "output_type": "stream",
     "text": [
      "[[0.03 0.85]\n",
      " [0.03 0.85]\n",
      " [0.76 0.  ]\n",
      " [0.8  0.76]\n",
      " [0.86 0.12]\n",
      " [0.   0.63]]\n"
     ]
    }
   ],
   "source": [
    "print(np.round(W, decimals=2))\n"
   ]
  },
  {
   "cell_type": "code",
   "execution_count": 53,
   "metadata": {},
   "outputs": [
    {
     "name": "stdout",
     "output_type": "stream",
     "text": [
      "[[0.   0.53 0.   1.24 1.24 1.24]\n",
      " [1.27 0.89 1.27 0.   0.   0.  ]]\n"
     ]
    }
   ],
   "source": [
    "print(np.round(H, decimals=2))"
   ]
  },
  {
   "cell_type": "code",
   "execution_count": 54,
   "metadata": {},
   "outputs": [
    {
     "name": "stdout",
     "output_type": "stream",
     "text": [
      "[[1.08 0.78 1.08 0.03 0.03 0.03]\n",
      " [1.08 0.78 1.08 0.03 0.03 0.03]\n",
      " [0.   0.4  0.   0.94 0.94 0.94]\n",
      " [0.96 1.1  0.96 0.99 0.99 0.99]\n",
      " [0.15 0.56 0.15 1.06 1.06 1.06]\n",
      " [0.8  0.57 0.8  0.   0.   0.  ]]\n"
     ]
    }
   ],
   "source": [
    "# Show that W.H approximates V\n",
    "\n",
    "print(np.round(W.dot(H), decimals=2))"
   ]
  },
  {
   "cell_type": "code",
   "execution_count": 41,
   "metadata": {},
   "outputs": [
    {
     "name": "stdout",
     "output_type": "stream",
     "text": [
      "['C_0', 'C_1']\n"
     ]
    }
   ],
   "source": [
    "cluster_names = [ f'C_{i}' for i in range(clusters)]\n",
    "print(cluster_names)"
   ]
  },
  {
   "cell_type": "code",
   "execution_count": 42,
   "metadata": {},
   "outputs": [
    {
     "name": "stdout",
     "output_type": "stream",
     "text": [
      "           C_0       C_1\n",
      "dylan  0.70645  0.000000\n",
      "nate   0.70645  0.000000\n",
      "kris   0.00000  0.673672\n",
      "sonny  0.70645  0.673645\n"
     ]
    }
   ],
   "source": [
    "fan_clustering = pd.DataFrame(W, index=music_dfm.index, columns=cluster_names)\n",
    "print(fan_clustering)"
   ]
  },
  {
   "cell_type": "code",
   "execution_count": 43,
   "metadata": {},
   "outputs": [
    {
     "name": "stdout",
     "output_type": "stream",
     "text": [
      "     coldplay  imagine dragons        u2  aerosmith  guns&roses  pearljam\n",
      "C_0  1.415528         1.415528  1.415528   0.000019    0.000019  0.000019\n",
      "C_1  0.000000         0.000000  0.000000   1.484423    1.484423  1.484423\n"
     ]
    }
   ],
   "source": [
    "# Notice that H is oriented the other way...\n",
    "\n",
    "print(pd.DataFrame(H, index=cluster_names, columns=music_dfm.columns))"
   ]
  },
  {
   "cell_type": "code",
   "execution_count": 44,
   "metadata": {},
   "outputs": [
    {
     "name": "stdout",
     "output_type": "stream",
     "text": [
      "                      C_0       C_1\n",
      "coldplay         1.415528  0.000000\n",
      "imagine dragons  1.415528  0.000000\n",
      "u2               1.415528  0.000000\n",
      "aerosmith        0.000019  1.484423\n",
      "guns&roses       0.000019  1.484423\n",
      "pearljam         0.000019  1.484423\n"
     ]
    }
   ],
   "source": [
    "# So transpose it.\n",
    "\n",
    "band_clustering = pd.DataFrame(H, index=cluster_names, columns=music_dfm.columns).T\n",
    "print(band_clustering)"
   ]
  },
  {
   "cell_type": "code",
   "execution_count": 45,
   "metadata": {},
   "outputs": [],
   "source": [
    "likes += [\n",
    "    ('terry', 'aerosmith'),\n",
    "    ('terry', 'guns&roses'),\n",
    "    ('terry', 'imagine dragons'),\n",
    "    ('terry', 'pearljam')\n",
    "]\n",
    "\n",
    "likes += [\n",
    "    ('vince', 'coldplay'),\n",
    "    ('vince', 'u2')\n",
    "]"
   ]
  },
  {
   "cell_type": "code",
   "execution_count": null,
   "metadata": {},
   "outputs": [],
   "source": []
  }
 ],
 "metadata": {
  "kernelspec": {
   "display_name": "Python 3",
   "language": "python",
   "name": "python3"
  },
  "language_info": {
   "codemirror_mode": {
    "name": "ipython",
    "version": 3
   },
   "file_extension": ".py",
   "mimetype": "text/x-python",
   "name": "python",
   "nbconvert_exporter": "python",
   "pygments_lexer": "ipython3",
   "version": "3.6.5"
  }
 },
 "nbformat": 4,
 "nbformat_minor": 2
}
